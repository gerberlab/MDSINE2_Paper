{
 "cells": [
  {
   "cell_type": "code",
   "execution_count": 1,
   "id": "4c8a9039",
   "metadata": {},
   "outputs": [
    {
     "name": "stderr",
     "output_type": "stream",
     "text": [
      "Loading required package: Rcpp\n",
      "\n"
     ]
    }
   ],
   "source": [
    "library(dada2); "
   ]
  },
  {
   "cell_type": "code",
   "execution_count": 2,
   "id": "8e305e94",
   "metadata": {},
   "outputs": [
    {
     "data": {
      "text/plain": [
       "[1] ‘1.22.0’"
      ]
     },
     "metadata": {},
     "output_type": "display_data"
    }
   ],
   "source": [
    "packageVersion(\"dada2\")"
   ]
  },
  {
   "cell_type": "code",
   "execution_count": 24,
   "id": "bf947d29",
   "metadata": {},
   "outputs": [],
   "source": [
    "path <- \"../../Dropbox (Partners HealthCare)/all_input_data/healthy\""
   ]
  },
  {
   "cell_type": "code",
   "execution_count": 25,
   "id": "20f9c8e3",
   "metadata": {},
   "outputs": [],
   "source": [
    "output_path <- './tmp'"
   ]
  },
  {
   "cell_type": "code",
   "execution_count": 28,
   "id": "9dd8b04c",
   "metadata": {},
   "outputs": [
    {
     "data": {
      "text/html": [],
      "text/latex": [],
      "text/markdown": [],
      "text/plain": [
       "character(0)"
      ]
     },
     "metadata": {},
     "output_type": "display_data"
    }
   ],
   "source": [
    "list.files(path)"
   ]
  },
  {
   "cell_type": "code",
   "execution_count": 29,
   "id": "a2f7b838",
   "metadata": {},
   "outputs": [
    {
     "data": {
      "text/html": [],
      "text/latex": [],
      "text/markdown": [],
      "text/plain": [
       "character(0)"
      ]
     },
     "metadata": {},
     "output_type": "display_data"
    }
   ],
   "source": []
  },
  {
   "cell_type": "code",
   "execution_count": null,
   "id": "5597fc98",
   "metadata": {},
   "outputs": [],
   "source": []
  },
  {
   "cell_type": "code",
   "execution_count": null,
   "id": "418161eb",
   "metadata": {},
   "outputs": [],
   "source": []
  }
 ],
 "metadata": {
  "kernelspec": {
   "display_name": "R-microbiome",
   "language": "R",
   "name": "rmicrobiome"
  },
  "language_info": {
   "codemirror_mode": "r",
   "file_extension": ".r",
   "mimetype": "text/x-r-source",
   "name": "R",
   "pygments_lexer": "r",
   "version": "4.1.3"
  }
 },
 "nbformat": 4,
 "nbformat_minor": 5
}
