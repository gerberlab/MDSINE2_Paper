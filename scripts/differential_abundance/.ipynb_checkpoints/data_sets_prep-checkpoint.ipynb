{
 "cells": [
  {
   "cell_type": "code",
   "execution_count": 1,
   "metadata": {
    "execution": {
     "iopub.execute_input": "2021-11-24T01:09:12.222Z",
     "iopub.status.busy": "2021-11-24T01:09:12.217Z",
     "iopub.status.idle": "2021-11-24T01:09:13.153Z",
     "shell.execute_reply": "2021-11-24T01:09:13.172Z"
    }
   },
   "outputs": [],
   "source": [
    "import pandas as pd\n",
    "import re\n",
    "import numpy as np\n",
    "import seaborn as sns\n",
    "sns.set()\n",
    "import matplotlib.pyplot as plt\n",
    "%matplotlib inline\n",
    "import matplotlib as mpl\n",
    "mpl.rcParams['figure.dpi']= 160\n",
    "import matplotlib.pyplot as plt\n",
    "\n",
    "\n",
    "days_list={16, 18, 21, 21.5, 23, 23.5, 24, 25, 32, 33, 35, 35.5, 37, 37.5, 38, 39, 46, 47, 50, 50.5, 52, 52.5, 53, 54}"
   ]
  },
  {
   "cell_type": "code",
   "execution_count": 6,
   "metadata": {
    "execution": {
     "iopub.execute_input": "2021-11-24T01:09:13.167Z",
     "iopub.status.busy": "2021-11-24T01:09:13.161Z",
     "iopub.status.idle": "2021-11-24T01:09:13.242Z",
     "shell.execute_reply": "2021-11-24T01:09:13.276Z"
    },
    "scrolled": false
   },
   "outputs": [
    {
     "data": {
      "text/html": [
       "<div>\n",
       "<style scoped>\n",
       "    .dataframe tbody tr th:only-of-type {\n",
       "        vertical-align: middle;\n",
       "    }\n",
       "\n",
       "    .dataframe tbody tr th {\n",
       "        vertical-align: top;\n",
       "    }\n",
       "\n",
       "    .dataframe thead th {\n",
       "        text-align: right;\n",
       "    }\n",
       "</style>\n",
       "<table border=\"1\" class=\"dataframe\">\n",
       "  <thead>\n",
       "    <tr style=\"text-align: right;\">\n",
       "      <th></th>\n",
       "      <th>1-D0AM</th>\n",
       "      <th>1-D0PM</th>\n",
       "      <th>1-D1AM</th>\n",
       "      <th>1-D1PM</th>\n",
       "      <th>1-D29AM</th>\n",
       "      <th>1-D29PM</th>\n",
       "      <th>1-D2AM</th>\n",
       "      <th>1-D2PM</th>\n",
       "      <th>1-D3AM</th>\n",
       "      <th>1-D3PM</th>\n",
       "      <th>...</th>\n",
       "      <th>M2-D8-2A</th>\n",
       "      <th>M2-D8-2B</th>\n",
       "      <th>M2-D8-3A</th>\n",
       "      <th>M2-D8-3B</th>\n",
       "      <th>M2-D9-1A</th>\n",
       "      <th>M2-D9-1B</th>\n",
       "      <th>M2-D9-2A</th>\n",
       "      <th>M2-D9-2B</th>\n",
       "      <th>M2-D9-3A</th>\n",
       "      <th>M2-D9-3B</th>\n",
       "    </tr>\n",
       "  </thead>\n",
       "  <tbody>\n",
       "    <tr>\n",
       "      <th>ASV_1</th>\n",
       "      <td>0</td>\n",
       "      <td>9</td>\n",
       "      <td>9</td>\n",
       "      <td>53</td>\n",
       "      <td>2729</td>\n",
       "      <td>3232</td>\n",
       "      <td>449</td>\n",
       "      <td>871</td>\n",
       "      <td>749</td>\n",
       "      <td>717</td>\n",
       "      <td>...</td>\n",
       "      <td>1717</td>\n",
       "      <td>2128</td>\n",
       "      <td>2121</td>\n",
       "      <td>2348</td>\n",
       "      <td>3313</td>\n",
       "      <td>2911</td>\n",
       "      <td>3834</td>\n",
       "      <td>3104</td>\n",
       "      <td>3626</td>\n",
       "      <td>3341</td>\n",
       "    </tr>\n",
       "    <tr>\n",
       "      <th>ASV_2</th>\n",
       "      <td>43</td>\n",
       "      <td>32</td>\n",
       "      <td>65</td>\n",
       "      <td>90</td>\n",
       "      <td>9482</td>\n",
       "      <td>7161</td>\n",
       "      <td>397</td>\n",
       "      <td>2187</td>\n",
       "      <td>3357</td>\n",
       "      <td>3793</td>\n",
       "      <td>...</td>\n",
       "      <td>14958</td>\n",
       "      <td>13749</td>\n",
       "      <td>14356</td>\n",
       "      <td>17205</td>\n",
       "      <td>13423</td>\n",
       "      <td>11314</td>\n",
       "      <td>19051</td>\n",
       "      <td>15783</td>\n",
       "      <td>18266</td>\n",
       "      <td>12650</td>\n",
       "    </tr>\n",
       "    <tr>\n",
       "      <th>ASV_3</th>\n",
       "      <td>50</td>\n",
       "      <td>107</td>\n",
       "      <td>946</td>\n",
       "      <td>2962</td>\n",
       "      <td>17</td>\n",
       "      <td>27</td>\n",
       "      <td>4990</td>\n",
       "      <td>6481</td>\n",
       "      <td>6429</td>\n",
       "      <td>7640</td>\n",
       "      <td>...</td>\n",
       "      <td>17145</td>\n",
       "      <td>16980</td>\n",
       "      <td>17800</td>\n",
       "      <td>19574</td>\n",
       "      <td>23115</td>\n",
       "      <td>20850</td>\n",
       "      <td>27270</td>\n",
       "      <td>21064</td>\n",
       "      <td>26375</td>\n",
       "      <td>22036</td>\n",
       "    </tr>\n",
       "    <tr>\n",
       "      <th>ASV_4</th>\n",
       "      <td>47</td>\n",
       "      <td>228</td>\n",
       "      <td>1865</td>\n",
       "      <td>7008</td>\n",
       "      <td>953</td>\n",
       "      <td>1816</td>\n",
       "      <td>7132</td>\n",
       "      <td>4299</td>\n",
       "      <td>3885</td>\n",
       "      <td>4484</td>\n",
       "      <td>...</td>\n",
       "      <td>64</td>\n",
       "      <td>68</td>\n",
       "      <td>75</td>\n",
       "      <td>82</td>\n",
       "      <td>104</td>\n",
       "      <td>65</td>\n",
       "      <td>123</td>\n",
       "      <td>100</td>\n",
       "      <td>107</td>\n",
       "      <td>97</td>\n",
       "    </tr>\n",
       "    <tr>\n",
       "      <th>ASV_5</th>\n",
       "      <td>18</td>\n",
       "      <td>45</td>\n",
       "      <td>487</td>\n",
       "      <td>1077</td>\n",
       "      <td>2350</td>\n",
       "      <td>1613</td>\n",
       "      <td>1949</td>\n",
       "      <td>2197</td>\n",
       "      <td>2477</td>\n",
       "      <td>2388</td>\n",
       "      <td>...</td>\n",
       "      <td>451</td>\n",
       "      <td>464</td>\n",
       "      <td>484</td>\n",
       "      <td>511</td>\n",
       "      <td>657</td>\n",
       "      <td>614</td>\n",
       "      <td>828</td>\n",
       "      <td>586</td>\n",
       "      <td>725</td>\n",
       "      <td>634</td>\n",
       "    </tr>\n",
       "  </tbody>\n",
       "</table>\n",
       "<p>5 rows × 339 columns</p>\n",
       "</div>"
      ],
      "text/plain": [
       "       1-D0AM  1-D0PM  1-D1AM  1-D1PM  1-D29AM  1-D29PM  1-D2AM  1-D2PM  \\\n",
       "ASV_1       0       9       9      53     2729     3232     449     871   \n",
       "ASV_2      43      32      65      90     9482     7161     397    2187   \n",
       "ASV_3      50     107     946    2962       17       27    4990    6481   \n",
       "ASV_4      47     228    1865    7008      953     1816    7132    4299   \n",
       "ASV_5      18      45     487    1077     2350     1613    1949    2197   \n",
       "\n",
       "       1-D3AM  1-D3PM  ...  M2-D8-2A  M2-D8-2B  M2-D8-3A  M2-D8-3B  M2-D9-1A  \\\n",
       "ASV_1     749     717  ...      1717      2128      2121      2348      3313   \n",
       "ASV_2    3357    3793  ...     14958     13749     14356     17205     13423   \n",
       "ASV_3    6429    7640  ...     17145     16980     17800     19574     23115   \n",
       "ASV_4    3885    4484  ...        64        68        75        82       104   \n",
       "ASV_5    2477    2388  ...       451       464       484       511       657   \n",
       "\n",
       "       M2-D9-1B  M2-D9-2A  M2-D9-2B  M2-D9-3A  M2-D9-3B  \n",
       "ASV_1      2911      3834      3104      3626      3341  \n",
       "ASV_2     11314     19051     15783     18266     12650  \n",
       "ASV_3     20850     27270     21064     26375     22036  \n",
       "ASV_4        65       123       100       107        97  \n",
       "ASV_5       614       828       586       725       634  \n",
       "\n",
       "[5 rows x 339 columns]"
      ]
     },
     "execution_count": 6,
     "metadata": {},
     "output_type": "execute_result"
    }
   ],
   "source": [
    "counts=pd.read_csv('../../datasets/gibson/raw_tables/counts.tsv',sep='\\t', index_col=0)\n",
    "counts.index.name=None\n",
    "counts.head()"
   ]
  },
  {
   "cell_type": "code",
   "execution_count": 3,
   "metadata": {
    "execution": {
     "iopub.execute_input": "2021-11-24T01:09:13.256Z",
     "iopub.status.busy": "2021-11-24T01:09:13.250Z",
     "iopub.status.idle": "2021-11-23T00:42:05.165Z",
     "shell.execute_reply": "2021-11-23T00:42:05.244Z"
    },
    "jupyter": {
     "outputs_hidden": false,
     "source_hidden": false
    },
    "nteract": {
     "transient": {
      "deleting": false
     }
    }
   },
   "outputs": [
    {
     "ename": "FileNotFoundError",
     "evalue": "[Errno 2] No such file or directory: 'otu_taxonomy.csv'",
     "output_type": "error",
     "traceback": [
      "\u001b[0;31m---------------------------------------------------------------------------\u001b[0m",
      "\u001b[0;31mFileNotFoundError\u001b[0m                         Traceback (most recent call last)",
      "\u001b[0;32m<ipython-input-3-706921c72326>\u001b[0m in \u001b[0;36m<module>\u001b[0;34m\u001b[0m\n\u001b[0;32m----> 1\u001b[0;31m \u001b[0mtaxonomy\u001b[0m\u001b[0;34m=\u001b[0m\u001b[0mpd\u001b[0m\u001b[0;34m.\u001b[0m\u001b[0mread_csv\u001b[0m\u001b[0;34m(\u001b[0m\u001b[0;34m'otu_taxonomy.csv'\u001b[0m\u001b[0;34m,\u001b[0m \u001b[0mindex_col\u001b[0m\u001b[0;34m=\u001b[0m\u001b[0;36m0\u001b[0m\u001b[0;34m)\u001b[0m\u001b[0;34m\u001b[0m\u001b[0;34m\u001b[0m\u001b[0m\n\u001b[0m\u001b[1;32m      2\u001b[0m \u001b[0mtaxonomy\u001b[0m\u001b[0;34m=\u001b[0m\u001b[0mtaxonomy\u001b[0m\u001b[0;34m.\u001b[0m\u001b[0mfillna\u001b[0m\u001b[0;34m(\u001b[0m\u001b[0;34m'unknown'\u001b[0m\u001b[0;34m)\u001b[0m\u001b[0;34m\u001b[0m\u001b[0;34m\u001b[0m\u001b[0m\n\u001b[1;32m      3\u001b[0m \u001b[0mtaxonomy\u001b[0m\u001b[0;34m.\u001b[0m\u001b[0mhead\u001b[0m\u001b[0;34m(\u001b[0m\u001b[0;34m)\u001b[0m\u001b[0;34m\u001b[0m\u001b[0;34m\u001b[0m\u001b[0m\n",
      "\u001b[0;32m~/anaconda3/envs/py3/lib/python3.7/site-packages/pandas/io/parsers.py\u001b[0m in \u001b[0;36mread_csv\u001b[0;34m(filepath_or_buffer, sep, delimiter, header, names, index_col, usecols, squeeze, prefix, mangle_dupe_cols, dtype, engine, converters, true_values, false_values, skipinitialspace, skiprows, skipfooter, nrows, na_values, keep_default_na, na_filter, verbose, skip_blank_lines, parse_dates, infer_datetime_format, keep_date_col, date_parser, dayfirst, cache_dates, iterator, chunksize, compression, thousands, decimal, lineterminator, quotechar, quoting, doublequote, escapechar, comment, encoding, dialect, error_bad_lines, warn_bad_lines, delim_whitespace, low_memory, memory_map, float_precision, storage_options)\u001b[0m\n\u001b[1;32m    608\u001b[0m     \u001b[0mkwds\u001b[0m\u001b[0;34m.\u001b[0m\u001b[0mupdate\u001b[0m\u001b[0;34m(\u001b[0m\u001b[0mkwds_defaults\u001b[0m\u001b[0;34m)\u001b[0m\u001b[0;34m\u001b[0m\u001b[0;34m\u001b[0m\u001b[0m\n\u001b[1;32m    609\u001b[0m \u001b[0;34m\u001b[0m\u001b[0m\n\u001b[0;32m--> 610\u001b[0;31m     \u001b[0;32mreturn\u001b[0m \u001b[0m_read\u001b[0m\u001b[0;34m(\u001b[0m\u001b[0mfilepath_or_buffer\u001b[0m\u001b[0;34m,\u001b[0m \u001b[0mkwds\u001b[0m\u001b[0;34m)\u001b[0m\u001b[0;34m\u001b[0m\u001b[0;34m\u001b[0m\u001b[0m\n\u001b[0m\u001b[1;32m    611\u001b[0m \u001b[0;34m\u001b[0m\u001b[0m\n\u001b[1;32m    612\u001b[0m \u001b[0;34m\u001b[0m\u001b[0m\n",
      "\u001b[0;32m~/anaconda3/envs/py3/lib/python3.7/site-packages/pandas/io/parsers.py\u001b[0m in \u001b[0;36m_read\u001b[0;34m(filepath_or_buffer, kwds)\u001b[0m\n\u001b[1;32m    460\u001b[0m \u001b[0;34m\u001b[0m\u001b[0m\n\u001b[1;32m    461\u001b[0m     \u001b[0;31m# Create the parser.\u001b[0m\u001b[0;34m\u001b[0m\u001b[0;34m\u001b[0m\u001b[0;34m\u001b[0m\u001b[0m\n\u001b[0;32m--> 462\u001b[0;31m     \u001b[0mparser\u001b[0m \u001b[0;34m=\u001b[0m \u001b[0mTextFileReader\u001b[0m\u001b[0;34m(\u001b[0m\u001b[0mfilepath_or_buffer\u001b[0m\u001b[0;34m,\u001b[0m \u001b[0;34m**\u001b[0m\u001b[0mkwds\u001b[0m\u001b[0;34m)\u001b[0m\u001b[0;34m\u001b[0m\u001b[0;34m\u001b[0m\u001b[0m\n\u001b[0m\u001b[1;32m    463\u001b[0m \u001b[0;34m\u001b[0m\u001b[0m\n\u001b[1;32m    464\u001b[0m     \u001b[0;32mif\u001b[0m \u001b[0mchunksize\u001b[0m \u001b[0;32mor\u001b[0m \u001b[0miterator\u001b[0m\u001b[0;34m:\u001b[0m\u001b[0;34m\u001b[0m\u001b[0;34m\u001b[0m\u001b[0m\n",
      "\u001b[0;32m~/anaconda3/envs/py3/lib/python3.7/site-packages/pandas/io/parsers.py\u001b[0m in \u001b[0;36m__init__\u001b[0;34m(self, f, engine, **kwds)\u001b[0m\n\u001b[1;32m    817\u001b[0m             \u001b[0mself\u001b[0m\u001b[0;34m.\u001b[0m\u001b[0moptions\u001b[0m\u001b[0;34m[\u001b[0m\u001b[0;34m\"has_index_names\"\u001b[0m\u001b[0;34m]\u001b[0m \u001b[0;34m=\u001b[0m \u001b[0mkwds\u001b[0m\u001b[0;34m[\u001b[0m\u001b[0;34m\"has_index_names\"\u001b[0m\u001b[0;34m]\u001b[0m\u001b[0;34m\u001b[0m\u001b[0;34m\u001b[0m\u001b[0m\n\u001b[1;32m    818\u001b[0m \u001b[0;34m\u001b[0m\u001b[0m\n\u001b[0;32m--> 819\u001b[0;31m         \u001b[0mself\u001b[0m\u001b[0;34m.\u001b[0m\u001b[0m_engine\u001b[0m \u001b[0;34m=\u001b[0m \u001b[0mself\u001b[0m\u001b[0;34m.\u001b[0m\u001b[0m_make_engine\u001b[0m\u001b[0;34m(\u001b[0m\u001b[0mself\u001b[0m\u001b[0;34m.\u001b[0m\u001b[0mengine\u001b[0m\u001b[0;34m)\u001b[0m\u001b[0;34m\u001b[0m\u001b[0;34m\u001b[0m\u001b[0m\n\u001b[0m\u001b[1;32m    820\u001b[0m \u001b[0;34m\u001b[0m\u001b[0m\n\u001b[1;32m    821\u001b[0m     \u001b[0;32mdef\u001b[0m \u001b[0mclose\u001b[0m\u001b[0;34m(\u001b[0m\u001b[0mself\u001b[0m\u001b[0;34m)\u001b[0m\u001b[0;34m:\u001b[0m\u001b[0;34m\u001b[0m\u001b[0;34m\u001b[0m\u001b[0m\n",
      "\u001b[0;32m~/anaconda3/envs/py3/lib/python3.7/site-packages/pandas/io/parsers.py\u001b[0m in \u001b[0;36m_make_engine\u001b[0;34m(self, engine)\u001b[0m\n\u001b[1;32m   1048\u001b[0m             )\n\u001b[1;32m   1049\u001b[0m         \u001b[0;31m# error: Too many arguments for \"ParserBase\"\u001b[0m\u001b[0;34m\u001b[0m\u001b[0;34m\u001b[0m\u001b[0;34m\u001b[0m\u001b[0m\n\u001b[0;32m-> 1050\u001b[0;31m         \u001b[0;32mreturn\u001b[0m \u001b[0mmapping\u001b[0m\u001b[0;34m[\u001b[0m\u001b[0mengine\u001b[0m\u001b[0;34m]\u001b[0m\u001b[0;34m(\u001b[0m\u001b[0mself\u001b[0m\u001b[0;34m.\u001b[0m\u001b[0mf\u001b[0m\u001b[0;34m,\u001b[0m \u001b[0;34m**\u001b[0m\u001b[0mself\u001b[0m\u001b[0;34m.\u001b[0m\u001b[0moptions\u001b[0m\u001b[0;34m)\u001b[0m  \u001b[0;31m# type: ignore[call-arg]\u001b[0m\u001b[0;34m\u001b[0m\u001b[0;34m\u001b[0m\u001b[0m\n\u001b[0m\u001b[1;32m   1051\u001b[0m \u001b[0;34m\u001b[0m\u001b[0m\n\u001b[1;32m   1052\u001b[0m     \u001b[0;32mdef\u001b[0m \u001b[0m_failover_to_python\u001b[0m\u001b[0;34m(\u001b[0m\u001b[0mself\u001b[0m\u001b[0;34m)\u001b[0m\u001b[0;34m:\u001b[0m\u001b[0;34m\u001b[0m\u001b[0;34m\u001b[0m\u001b[0m\n",
      "\u001b[0;32m~/anaconda3/envs/py3/lib/python3.7/site-packages/pandas/io/parsers.py\u001b[0m in \u001b[0;36m__init__\u001b[0;34m(self, src, **kwds)\u001b[0m\n\u001b[1;32m   1865\u001b[0m \u001b[0;34m\u001b[0m\u001b[0m\n\u001b[1;32m   1866\u001b[0m         \u001b[0;31m# open handles\u001b[0m\u001b[0;34m\u001b[0m\u001b[0;34m\u001b[0m\u001b[0;34m\u001b[0m\u001b[0m\n\u001b[0;32m-> 1867\u001b[0;31m         \u001b[0mself\u001b[0m\u001b[0;34m.\u001b[0m\u001b[0m_open_handles\u001b[0m\u001b[0;34m(\u001b[0m\u001b[0msrc\u001b[0m\u001b[0;34m,\u001b[0m \u001b[0mkwds\u001b[0m\u001b[0;34m)\u001b[0m\u001b[0;34m\u001b[0m\u001b[0;34m\u001b[0m\u001b[0m\n\u001b[0m\u001b[1;32m   1868\u001b[0m         \u001b[0;32massert\u001b[0m \u001b[0mself\u001b[0m\u001b[0;34m.\u001b[0m\u001b[0mhandles\u001b[0m \u001b[0;32mis\u001b[0m \u001b[0;32mnot\u001b[0m \u001b[0;32mNone\u001b[0m\u001b[0;34m\u001b[0m\u001b[0;34m\u001b[0m\u001b[0m\n\u001b[1;32m   1869\u001b[0m         \u001b[0;32mfor\u001b[0m \u001b[0mkey\u001b[0m \u001b[0;32min\u001b[0m \u001b[0;34m(\u001b[0m\u001b[0;34m\"storage_options\"\u001b[0m\u001b[0;34m,\u001b[0m \u001b[0;34m\"encoding\"\u001b[0m\u001b[0;34m,\u001b[0m \u001b[0;34m\"memory_map\"\u001b[0m\u001b[0;34m,\u001b[0m \u001b[0;34m\"compression\"\u001b[0m\u001b[0;34m)\u001b[0m\u001b[0;34m:\u001b[0m\u001b[0;34m\u001b[0m\u001b[0;34m\u001b[0m\u001b[0m\n",
      "\u001b[0;32m~/anaconda3/envs/py3/lib/python3.7/site-packages/pandas/io/parsers.py\u001b[0m in \u001b[0;36m_open_handles\u001b[0;34m(self, src, kwds)\u001b[0m\n\u001b[1;32m   1366\u001b[0m             \u001b[0mcompression\u001b[0m\u001b[0;34m=\u001b[0m\u001b[0mkwds\u001b[0m\u001b[0;34m.\u001b[0m\u001b[0mget\u001b[0m\u001b[0;34m(\u001b[0m\u001b[0;34m\"compression\"\u001b[0m\u001b[0;34m,\u001b[0m \u001b[0;32mNone\u001b[0m\u001b[0;34m)\u001b[0m\u001b[0;34m,\u001b[0m\u001b[0;34m\u001b[0m\u001b[0;34m\u001b[0m\u001b[0m\n\u001b[1;32m   1367\u001b[0m             \u001b[0mmemory_map\u001b[0m\u001b[0;34m=\u001b[0m\u001b[0mkwds\u001b[0m\u001b[0;34m.\u001b[0m\u001b[0mget\u001b[0m\u001b[0;34m(\u001b[0m\u001b[0;34m\"memory_map\"\u001b[0m\u001b[0;34m,\u001b[0m \u001b[0;32mFalse\u001b[0m\u001b[0;34m)\u001b[0m\u001b[0;34m,\u001b[0m\u001b[0;34m\u001b[0m\u001b[0;34m\u001b[0m\u001b[0m\n\u001b[0;32m-> 1368\u001b[0;31m             \u001b[0mstorage_options\u001b[0m\u001b[0;34m=\u001b[0m\u001b[0mkwds\u001b[0m\u001b[0;34m.\u001b[0m\u001b[0mget\u001b[0m\u001b[0;34m(\u001b[0m\u001b[0;34m\"storage_options\"\u001b[0m\u001b[0;34m,\u001b[0m \u001b[0;32mNone\u001b[0m\u001b[0;34m)\u001b[0m\u001b[0;34m,\u001b[0m\u001b[0;34m\u001b[0m\u001b[0;34m\u001b[0m\u001b[0m\n\u001b[0m\u001b[1;32m   1369\u001b[0m         )\n\u001b[1;32m   1370\u001b[0m \u001b[0;34m\u001b[0m\u001b[0m\n",
      "\u001b[0;32m~/anaconda3/envs/py3/lib/python3.7/site-packages/pandas/io/common.py\u001b[0m in \u001b[0;36mget_handle\u001b[0;34m(path_or_buf, mode, encoding, compression, memory_map, is_text, errors, storage_options)\u001b[0m\n\u001b[1;32m    645\u001b[0m                 \u001b[0mencoding\u001b[0m\u001b[0;34m=\u001b[0m\u001b[0mioargs\u001b[0m\u001b[0;34m.\u001b[0m\u001b[0mencoding\u001b[0m\u001b[0;34m,\u001b[0m\u001b[0;34m\u001b[0m\u001b[0;34m\u001b[0m\u001b[0m\n\u001b[1;32m    646\u001b[0m                 \u001b[0merrors\u001b[0m\u001b[0;34m=\u001b[0m\u001b[0merrors\u001b[0m\u001b[0;34m,\u001b[0m\u001b[0;34m\u001b[0m\u001b[0;34m\u001b[0m\u001b[0m\n\u001b[0;32m--> 647\u001b[0;31m                 \u001b[0mnewline\u001b[0m\u001b[0;34m=\u001b[0m\u001b[0;34m\"\"\u001b[0m\u001b[0;34m,\u001b[0m\u001b[0;34m\u001b[0m\u001b[0;34m\u001b[0m\u001b[0m\n\u001b[0m\u001b[1;32m    648\u001b[0m             )\n\u001b[1;32m    649\u001b[0m         \u001b[0;32melse\u001b[0m\u001b[0;34m:\u001b[0m\u001b[0;34m\u001b[0m\u001b[0;34m\u001b[0m\u001b[0m\n",
      "\u001b[0;31mFileNotFoundError\u001b[0m: [Errno 2] No such file or directory: 'otu_taxonomy.csv'"
     ]
    }
   ],
   "source": [
    "taxonomy=pd.read_csv('otu_taxonomy.csv', index_col=0)\n",
    "taxonomy=taxonomy.fillna('unknown')\n",
    "taxonomy.head()"
   ]
  },
  {
   "cell_type": "code",
   "execution_count": null,
   "metadata": {
    "execution": {
     "iopub.execute_input": "2021-11-23T00:42:05.180Z",
     "iopub.status.busy": "2021-11-23T00:42:05.173Z",
     "iopub.status.idle": "2021-11-23T00:42:05.195Z",
     "shell.execute_reply": "2021-11-23T00:42:05.251Z"
    }
   },
   "outputs": [],
   "source": [
    "taxonomy_temp=taxonomy.copy()\n",
    "taxonomy_temp.insert(8, 'OTU', pd.Series(np.array(taxonomy.index), index=taxonomy.index))\n",
    "index=pd.MultiIndex.from_frame(taxonomy_temp)\n",
    "meta=pd.read_csv('combined_data/metadata_modified_window.csv', index_col=0)\n",
    "meta.index.name = 'sample'\n",
    "meta.reset_index(inplace=True)\n",
    "columns=pd.MultiIndex.from_frame(meta)\n",
    "c_names=['sample', 'isIncluded', 'subjectID', 'measurementID', 'perturbID', 'window', 'cohort']\n",
    "print(columns)\n",
    "print(c_names)"
   ]
  },
  {
   "cell_type": "code",
   "execution_count": null,
   "metadata": {
    "execution": {
     "iopub.execute_input": "2021-11-23T00:42:05.215Z",
     "iopub.status.busy": "2021-11-23T00:42:05.208Z",
     "iopub.status.idle": "2021-11-23T00:42:05.266Z",
     "shell.execute_reply": "2021-11-23T00:42:05.254Z"
    },
    "scrolled": true
   },
   "outputs": [],
   "source": [
    "df=pd.DataFrame(data=counts.to_numpy(), index=index, columns=columns)\n",
    "df_main=df.loc[:,df.columns.get_level_values(3).isin(days_list)].groupby(level=['cohort', 'subjectID', 'perturbID', 'window'], axis=1, dropna=False).sum()\n",
    "df_main.head()"
   ]
  },
  {
   "cell_type": "code",
   "execution_count": null,
   "metadata": {
    "collapsed": true,
    "execution": {
     "iopub.execute_input": "2021-08-19T22:15:36.704Z",
     "iopub.status.busy": "2021-08-19T22:15:36.699Z",
     "iopub.status.idle": "2021-08-19T22:15:36.717Z",
     "shell.execute_reply": "2021-08-19T22:15:36.723Z"
    },
    "jupyter": {
     "outputs_hidden": false,
     "source_hidden": false
    },
    "nteract": {
     "transient": {
      "deleting": false
     }
    }
   },
   "outputs": [],
   "source": []
  },
  {
   "cell_type": "code",
   "execution_count": null,
   "metadata": {
    "execution": {
     "iopub.execute_input": "2021-11-23T00:42:05.303Z",
     "iopub.status.busy": "2021-11-23T00:42:05.296Z",
     "iopub.status.idle": "2021-11-23T00:42:05.318Z",
     "shell.execute_reply": "2021-11-23T00:42:05.440Z"
    },
    "jupyter": {
     "outputs_hidden": false,
     "source_hidden": false
    },
    "nteract": {
     "transient": {
      "deleting": false
     }
    },
    "tags": []
   },
   "outputs": [],
   "source": [
    "df_main = df_main.loc[:,df_main.columns.get_level_values(0)=='healthy']\n",
    "df_main.head()"
   ]
  },
  {
   "cell_type": "code",
   "execution_count": null,
   "metadata": {
    "execution": {
     "iopub.execute_input": "2021-11-23T00:42:05.335Z",
     "iopub.status.busy": "2021-11-23T00:42:05.329Z",
     "iopub.status.idle": "2021-11-23T00:42:05.348Z",
     "shell.execute_reply": "2021-11-23T00:42:05.443Z"
    },
    "jupyter": {
     "outputs_hidden": false,
     "source_hidden": false
    },
    "nteract": {
     "transient": {
      "deleting": false
     }
    }
   },
   "outputs": [],
   "source": [
    "index_out=df_main.index.get_level_values(5).values + ' ' + df_main.index.get_level_values(6).values + ' ' + df_main.index.get_level_values(8).values \n",
    "counts_out=pd.DataFrame(data=df_main.to_numpy(), index=index_out)\n",
    "counts_out.head()"
   ]
  },
  {
   "cell_type": "code",
   "execution_count": null,
   "metadata": {
    "execution": {
     "iopub.execute_input": "2021-11-23T00:42:05.362Z",
     "iopub.status.busy": "2021-11-23T00:42:05.357Z",
     "iopub.status.idle": "2021-11-23T00:42:05.374Z",
     "shell.execute_reply": "2021-11-23T00:42:05.445Z"
    },
    "jupyter": {
     "outputs_hidden": false,
     "source_hidden": false
    },
    "nteract": {
     "transient": {
      "deleting": false
     }
    },
    "scrolled": true
   },
   "outputs": [],
   "source": [
    "meta_out=df_main.columns.to_frame(index=None)\n",
    "meta_out"
   ]
  },
  {
   "cell_type": "code",
   "execution_count": null,
   "metadata": {
    "execution": {
     "iopub.execute_input": "2021-11-23T00:42:05.386Z",
     "iopub.status.busy": "2021-11-23T00:42:05.382Z",
     "iopub.status.idle": "2021-11-23T00:42:05.398Z",
     "shell.execute_reply": "2021-11-23T00:42:05.448Z"
    },
    "jupyter": {
     "outputs_hidden": false,
     "source_hidden": false
    },
    "nteract": {
     "transient": {
      "deleting": false
     }
    }
   },
   "outputs": [],
   "source": [
    "counts_out.to_csv('out/healthy_otu_counts.csv')\n",
    "meta_out.to_csv('out/healthy_otu_meta.csv')"
   ]
  },
  {
   "cell_type": "code",
   "execution_count": null,
   "metadata": {
    "execution": {
     "iopub.execute_input": "2021-11-23T00:42:05.411Z",
     "iopub.status.busy": "2021-11-23T00:42:05.407Z",
     "iopub.status.idle": "2021-11-23T00:42:05.423Z",
     "shell.execute_reply": "2021-11-23T00:42:05.451Z"
    },
    "scrolled": true
   },
   "outputs": [],
   "source": [
    "df=pd.DataFrame(data=counts.to_numpy(), index=index, columns=columns)\n",
    "df_main=df.loc[:,df.columns.get_level_values(3).isin(days_list)].groupby(level=['cohort', 'subjectID', 'perturbID', 'window'], axis=1, dropna=False).sum()\n",
    "df_main = df_main.loc[:,df_main.columns.get_level_values(0)=='uc']\n",
    "#df_main = df_main.loc[:,df_main.columns.get_level_values(2)!=10]\n",
    "#df_main = df_main.loc[:,df_main.columns.get_level_values(2)!=6]\n",
    "\n",
    "index_out=df_main.index.get_level_values(5).values + ' ' + df_main.index.get_level_values(6).values + ' ' + df_main.index.get_level_values(8).values \n",
    "counts_out=pd.DataFrame(data=df_main.to_numpy(), index=index_out)\n",
    "\n",
    "meta_out=df_main.columns.to_frame(index=None)\n",
    "\n",
    "counts_out.to_csv('out/uc_otu_counts.csv')\n",
    "meta_out.to_csv('out/uc_otu_meta.csv')\n",
    "meta_out"
   ]
  },
  {
   "cell_type": "code",
   "execution_count": null,
   "metadata": {
    "execution": {
     "iopub.execute_input": "2021-11-23T00:42:05.435Z",
     "iopub.status.busy": "2021-11-23T00:42:05.431Z",
     "iopub.status.idle": "2021-11-23T00:42:06.911Z",
     "shell.execute_reply": "2021-11-23T00:42:07.075Z"
    },
    "scrolled": true
   },
   "outputs": [],
   "source": [
    "df=pd.DataFrame(data=counts.to_numpy(), index=index, columns=columns)\n",
    "\n",
    "df=df.groupby(level=['phylum',\t'class',\t'order', 'family'], dropna=False).sum()\n",
    "df.head()\n",
    "\n",
    "df_main=df.loc[:,df.columns.get_level_values(3).isin(days_list)].groupby(level=['cohort', 'subjectID', 'perturbID', 'window'], axis=1, dropna=False).sum()\n",
    "\n",
    "df_main = df_main.loc[:,df_main.columns.get_level_values(0)=='healthy']\n",
    "\n",
    "\n",
    "top10=df_main.mean(1).sort_values(ascending=False)[0:10].index\n",
    "\n",
    "df_main_rel=df_main/df_main.sum()\n",
    "ax1 = df_main_rel.loc[top10].transpose().plot.bar(stacked=True)\n",
    "ax1.legend(loc='center left', bbox_to_anchor=(1, 0.5))\n",
    "plt.show()\n",
    "\n",
    "index_out=df_main.index.get_level_values(0).values + ' ' + df_main.index.get_level_values(1).values + ' ' + df_main.index.get_level_values(2).values + ' ' + df_main.index.get_level_values(3).values\n",
    "counts_out=pd.DataFrame(data=df_main.to_numpy(), index=index_out)\n",
    "\n",
    "meta_out=df_main.columns.to_frame(index=None)\n",
    "\n",
    "counts_out.to_csv('out/healthy_of_counts.csv')\n",
    "meta_out.to_csv('out/healthy_of_meta.csv')\n",
    "meta_out\n",
    "\n",
    "###\n",
    "\n",
    "df=pd.DataFrame(data=counts.to_numpy(), index=index, columns=columns)\n",
    "\n",
    "df=df.groupby(level=['phylum',\t'class',\t'order', 'family'], dropna=False).sum()\n",
    "df.head()\n",
    "\n",
    "df_main=df.loc[:,df.columns.get_level_values(3).isin(days_list)].groupby(level=['cohort', 'subjectID', 'perturbID', 'window'], axis=1, dropna=False).sum()\n",
    "\n",
    "df_main = df_main.loc[:,df_main.columns.get_level_values(0)=='uc']\n",
    "#df_main = df_main.loc[:,df_main.columns.get_level_values(2)!=10]\n",
    "#df_main = df_main.loc[:,df_main.columns.get_level_values(2)!=6]\n",
    "\n",
    "df_main_rel=df_main/df_main.sum()\n",
    "ax2 = df_main_rel.loc[top10].transpose().plot.bar(stacked=True)\n",
    "ax2.legend(loc='center left', bbox_to_anchor=(1, 0.5))\n",
    "plt.show()\n",
    "\n",
    "\n",
    "index_out=df_main.index.get_level_values(0).values + ' ' + df_main.index.get_level_values(1).values + ' ' + df_main.index.get_level_values(2).values + ' ' + df_main.index.get_level_values(3).values\n",
    "counts_out=pd.DataFrame(data=df_main.to_numpy(), index=index_out)\n",
    "\n",
    "meta_out=df_main.columns.to_frame(index=None)\n",
    "\n",
    "counts_out.to_csv('out/uc_of_counts.csv')\n",
    "meta_out.to_csv('out/uc_of_meta.csv')\n",
    "meta_out\n",
    "counts_out"
   ]
  },
  {
   "cell_type": "code",
   "execution_count": null,
   "metadata": {
    "execution": {
     "iopub.execute_input": "2021-11-23T00:42:06.932Z",
     "iopub.status.busy": "2021-11-23T00:42:06.924Z",
     "iopub.status.idle": "2021-11-23T00:42:06.972Z",
     "shell.execute_reply": "2021-11-23T00:42:07.077Z"
    },
    "jupyter": {
     "outputs_hidden": false,
     "source_hidden": false
    },
    "nteract": {
     "transient": {
      "deleting": false
     }
    }
   },
   "outputs": [],
   "source": [
    "df=pd.DataFrame(data=counts.to_numpy(), index=index, columns=columns)\n",
    "\n",
    "df=df.groupby(level=['phylum'], dropna=False).sum()\n",
    "df.head()\n",
    "\n",
    "df_main=df.loc[:,df.columns.get_level_values(3).isin(days_list)].groupby(level=['cohort', 'subjectID', 'perturbID', 'window'], axis=1, dropna=False).sum()\n",
    "\n",
    "df_main = df_main.loc[:,df_main.columns.get_level_values(0)=='healthy']\n",
    "\n",
    "\n",
    "index_out=df_main.index.get_level_values(0).values\n",
    "counts_out=pd.DataFrame(data=df_main.to_numpy(), index=index_out)\n",
    "\n",
    "meta_out=df_main.columns.to_frame(index=None)\n",
    "\n",
    "counts_out.to_csv('out/healthy_phylum_counts.csv')\n",
    "meta_out.to_csv('out/healthy_phylum_meta.csv')\n",
    "meta_out\n",
    "\n",
    "###\n",
    "\n",
    "df=pd.DataFrame(data=counts.to_numpy(), index=index, columns=columns)\n",
    "\n",
    "df=df.groupby(level=['phylum'], dropna=False).sum()\n",
    "df.head()\n",
    "\n",
    "df_main=df.loc[:,df.columns.get_level_values(3).isin(days_list)].groupby(level=['cohort', 'subjectID', 'perturbID', 'window'], axis=1, dropna=False).sum()\n",
    "\n",
    "df_main = df_main.loc[:,df_main.columns.get_level_values(0)=='uc']\n",
    "\n",
    "\n",
    "index_out=df_main.index.get_level_values(0).values\n",
    "counts_out=pd.DataFrame(data=df_main.to_numpy(), index=index_out)\n",
    "\n",
    "meta_out=df_main.columns.to_frame(index=None)\n",
    "\n",
    "counts_out.to_csv('out/uc_phylum_counts.csv')\n",
    "meta_out.to_csv('out/uc_phylum_meta.csv')\n",
    "meta_out\n",
    "counts_out"
   ]
  },
  {
   "cell_type": "code",
   "execution_count": null,
   "metadata": {
    "execution": {
     "iopub.execute_input": "2021-11-23T00:42:06.990Z",
     "iopub.status.busy": "2021-11-23T00:42:06.982Z",
     "iopub.status.idle": "2021-11-23T00:42:07.003Z",
     "shell.execute_reply": "2021-11-23T00:42:07.080Z"
    },
    "jupyter": {
     "outputs_hidden": false,
     "source_hidden": false
    },
    "nteract": {
     "transient": {
      "deleting": false
     }
    }
   },
   "outputs": [],
   "source": [
    "meta_out"
   ]
  },
  {
   "cell_type": "code",
   "execution_count": null,
   "metadata": {
    "collapsed": true,
    "jupyter": {
     "outputs_hidden": false,
     "source_hidden": false
    },
    "nteract": {
     "transient": {
      "deleting": false
     }
    }
   },
   "outputs": [],
   "source": []
  },
  {
   "cell_type": "code",
   "execution_count": null,
   "metadata": {
    "collapsed": true,
    "execution": {
     "iopub.execute_input": "2021-11-23T00:42:07.015Z",
     "iopub.status.busy": "2021-11-23T00:42:07.011Z",
     "iopub.status.idle": "2021-11-23T00:42:07.026Z",
     "shell.execute_reply": "2021-11-23T00:42:07.083Z"
    },
    "jupyter": {
     "outputs_hidden": false,
     "source_hidden": false
    },
    "nteract": {
     "transient": {
      "deleting": false
     }
    }
   },
   "outputs": [],
   "source": [
    "days_list={16, 18, 21, 21.5}\n",
    "df=pd.DataFrame(data=counts.to_numpy(), index=index, columns=columns)\n",
    "\n",
    "df=df.groupby(level=['phylum',\t'class',\t'order', 'family'], dropna=False).sum()\n",
    "df.head()\n",
    "\n",
    "df_main=df.loc[:,df.columns.get_level_values(3).isin(days_list)].groupby(level=['cohort', 'subjectID', 'perturbID', 'window'], axis=1, dropna=False).sum()\n",
    "\n",
    "\n",
    "index_out=df_main.index.get_level_values(0).values + ' ' + df_main.index.get_level_values(1).values + ' ' + df_main.index.get_level_values(2).values + ' ' + df_main.index.get_level_values(3).values\n",
    "counts_out=pd.DataFrame(data=df_main.to_numpy(), index=index_out)\n",
    "\n",
    "meta_out=df_main.columns.to_frame(index=None)\n",
    "\n",
    "counts_out.to_csv('out/ss_of_counts.csv')\n",
    "meta_out.to_csv('out/ss_of_meta.csv')\n",
    "meta_out\n",
    "\n"
   ]
  },
  {
   "cell_type": "code",
   "execution_count": null,
   "metadata": {
    "collapsed": true,
    "execution": {
     "iopub.execute_input": "2021-11-23T00:42:07.037Z",
     "iopub.status.busy": "2021-11-23T00:42:07.033Z",
     "iopub.status.idle": "2021-11-23T00:42:07.048Z",
     "shell.execute_reply": "2021-11-23T00:42:07.085Z"
    },
    "jupyter": {
     "outputs_hidden": false,
     "source_hidden": false
    },
    "nteract": {
     "transient": {
      "deleting": false
     }
    }
   },
   "outputs": [],
   "source": [
    "counts_out"
   ]
  },
  {
   "cell_type": "code",
   "execution_count": null,
   "metadata": {
    "collapsed": true,
    "execution": {
     "iopub.execute_input": "2021-11-23T00:42:07.059Z",
     "iopub.status.busy": "2021-11-23T00:42:07.055Z",
     "iopub.status.idle": "2021-11-23T00:42:07.070Z",
     "shell.execute_reply": "2021-11-23T00:42:07.088Z"
    },
    "jupyter": {
     "outputs_hidden": false,
     "source_hidden": false
    },
    "nteract": {
     "transient": {
      "deleting": false
     }
    }
   },
   "outputs": [],
   "source": [
    "df=pd.DataFrame(data=counts.to_numpy(), index=index, columns=columns)\n",
    "\n",
    "df=df.groupby(level=['phylum'], dropna=False).sum()\n",
    "df.head()\n",
    "\n",
    "df_main=df.loc[:,df.columns.get_level_values(3).isin(days_list)].groupby(level=['cohort', 'subjectID', 'perturbID', 'window'], axis=1, dropna=False).sum()\n",
    "\n",
    "\n",
    "index_out=df_main.index.get_level_values(0).values\n",
    "counts_out=pd.DataFrame(data=df_main.to_numpy(), index=index_out)\n",
    "\n",
    "meta_out=df_main.columns.to_frame(index=None)\n",
    "\n",
    "counts_out.to_csv('out/ss_phylum_counts.csv')\n",
    "meta_out.to_csv('out/ss_phylum_meta.csv')\n",
    "meta_out\n",
    "counts_out"
   ]
  },
  {
   "cell_type": "code",
   "execution_count": null,
   "metadata": {
    "collapsed": true,
    "jupyter": {
     "outputs_hidden": false,
     "source_hidden": false
    },
    "nteract": {
     "transient": {
      "deleting": false
     }
    }
   },
   "outputs": [],
   "source": []
  },
  {
   "cell_type": "code",
   "execution_count": null,
   "metadata": {
    "collapsed": true,
    "jupyter": {
     "outputs_hidden": false,
     "source_hidden": false
    },
    "nteract": {
     "transient": {
      "deleting": false
     }
    }
   },
   "outputs": [],
   "source": []
  },
  {
   "cell_type": "code",
   "execution_count": null,
   "metadata": {
    "collapsed": true,
    "jupyter": {
     "outputs_hidden": false,
     "source_hidden": false
    },
    "nteract": {
     "transient": {
      "deleting": false
     }
    }
   },
   "outputs": [],
   "source": []
  },
  {
   "cell_type": "code",
   "execution_count": null,
   "metadata": {
    "collapsed": true,
    "jupyter": {
     "outputs_hidden": false,
     "source_hidden": false
    },
    "nteract": {
     "transient": {
      "deleting": false
     }
    }
   },
   "outputs": [],
   "source": []
  }
 ],
 "metadata": {
  "kernelspec": {
   "display_name": "Python 3 (ipykernel)",
   "language": "python",
   "name": "python3"
  },
  "language_info": {
   "codemirror_mode": {
    "name": "ipython",
    "version": 3
   },
   "file_extension": ".py",
   "mimetype": "text/x-python",
   "name": "python",
   "nbconvert_exporter": "python",
   "pygments_lexer": "ipython3",
   "version": "3.9.7"
  },
  "nteract": {
   "version": "0.28.0"
  }
 },
 "nbformat": 4,
 "nbformat_minor": 4
}
